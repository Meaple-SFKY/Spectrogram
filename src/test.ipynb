{
 "cells": [
  {
   "cell_type": "code",
   "execution_count": null,
   "metadata": {},
   "outputs": [],
   "source": [
    "import torch\n",
    "from models.BiSpecNet import BinSpecCNN\n",
    "import cv2 as cv\n",
    "import numpy as np\n",
    "import torchaudio\n",
    "import torchvision.transforms as transforms\n",
    "import torch.nn as nn\n",
    "import numpy as np\n",
    "import matplotlib.pyplot as plt\n",
    "\n",
    "from torch.optim import Adam"
   ]
  },
  {
   "cell_type": "code",
   "execution_count": null,
   "metadata": {},
   "outputs": [],
   "source": [
    "def wavToSpec(wavname):\n",
    "\twaveform, sample_rate = torchaudio.load(\n",
    "\t\tfilepath=wavname, frame_offset=10000, num_frames=16000)\n",
    "\tif len(waveform[0]) == 0:\n",
    "\t\tprint(\"ERROR\")\n",
    "\t\treturn\n",
    "\n",
    "\tspecgram = torchaudio.transforms.Spectrogram()(waveform)\n",
    "\tif specgram.size(2) != 81:\n",
    "\t\tprint(\"WARN\")\n",
    "\t\treturn\n",
    "\timage_arr = specgram.log2()[0, :, :].numpy()\n",
    "\tfilepath = '../cache/1.png'\n",
    "\tplt.imsave(fname=filepath, arr=image_arr, format='png', cmap='gray')\n",
    "\n",
    "\n",
    "def read_img():\n",
    "\timage = '../cache/1.png'\n",
    "\tpic = cv.imread(image, cv.IMREAD_GRAYSCALE)\n",
    "\tdataItem = cv.resize(pic, (201, 201), interpolation=cv.INTER_CUBIC)\n",
    "\ttransf = transforms.ToTensor()\n",
    "\timageTensor = transf(dataItem)\n",
    "\tdata = imageTensor.reshape((1, 1, 201, 201))\n",
    "\treturn data\n"
   ]
  },
  {
   "cell_type": "code",
   "execution_count": null,
   "metadata": {},
   "outputs": [],
   "source": [
    "def process(filename):\n",
    "\twavToSpec(filename)\n",
    "\tdata = read_img()\n",
    "\n",
    "\tmodel = BinSpecCNN(classCount=10)\n",
    "\tmodel = torch.load('../model/bin,97.54,200,10.pt', map_location='cpu')\n",
    "\tout = model(data)\n",
    "\t_, predicted = torch.max(out.data, dim=1)\n",
    "\treturn predicted.item() + 2"
   ]
  },
  {
   "cell_type": "code",
   "execution_count": null,
   "metadata": {},
   "outputs": [],
   "source": [
    "import tkinter as tk\n",
    "from tkinter import *\n",
    "import tkinter.filedialog\n",
    "import cv2\n",
    "\n",
    "name = 1\n",
    "\n",
    "\n",
    "def choose_file():\n",
    "\tselectFileName = tk.filedialog.askopenfilename(title='Choose File')\n",
    "\tprint(process(selectFileName))\n",
    "\tname = 1\n",
    "\n",
    "\n",
    "def window():\n",
    "\troot = tk.Tk()\n",
    "\troot.geometry('650x450+150+100')\n",
    "\troot.title('test')\n",
    "\troot.resizable(False, False)\n",
    "\n",
    "\tglobal e\n",
    "\te = tk.StringVar()\n",
    "\te_entry = tk.Entry(root, width=68, textvariable=e)\n",
    "\te_entry.pack()\n",
    "\n",
    "\tsumbit_btn = tk.Button(root, text=\"Choose File\", bg='yellow', command=choose_file)\n",
    "\tsumbit_btn.pack()\n",
    "\n",
    "\troot.mainloop()\n",
    "\n",
    "\n",
    "window()"
   ]
  }
 ],
 "metadata": {
  "interpreter": {
   "hash": "e8f640675e6b3a394c274180f4496f01c8b5ef0148ca2ba8edced6c747686770"
  },
  "kernelspec": {
   "display_name": "Python 3.9.7 64-bit ('DeepLearning')",
   "language": "python",
   "name": "python3"
  },
  "language_info": {
   "codemirror_mode": {
    "name": "ipython",
    "version": 3
   },
   "file_extension": ".py",
   "mimetype": "text/x-python",
   "name": "python",
   "nbconvert_exporter": "python",
   "pygments_lexer": "ipython3",
   "version": "3.9.7"
  },
  "orig_nbformat": 4
 },
 "nbformat": 4,
 "nbformat_minor": 2
}
