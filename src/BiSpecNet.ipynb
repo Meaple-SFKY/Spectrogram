{
 "cells": [
  {
   "cell_type": "code",
   "execution_count": null,
   "metadata": {},
   "outputs": [],
   "source": [
    "from utils import Draw\n",
    "from utils.DataLoader import Loader\n",
    "from utils.OpeModel import OpeModel\n",
    "from models.BiSpecNet import BinSpecCNN"
   ]
  },
  {
   "cell_type": "code",
   "execution_count": null,
   "metadata": {},
   "outputs": [],
   "source": [
    "classCount = 5\n",
    "loader = Loader(classCount=classCount)\n",
    "classes, train_loader, test_loader = loader.loader()"
   ]
  },
  {
   "cell_type": "code",
   "execution_count": null,
   "metadata": {},
   "outputs": [],
   "source": [
    "model = BinSpecCNN(classCount=classCount)\n",
    "opemodel = OpeModel(model, 0.001, train_loader, test_loader)"
   ]
  },
  {
   "cell_type": "code",
   "execution_count": null,
   "metadata": {},
   "outputs": [],
   "source": [
    "# opemodel.train_strategy(50)\n",
    "opemodel.modify_lr(0.00001)\n",
    "opemodel.train_strategy(20)\n",
    "# model_ini = model\n",
    "# opemodel.load_state('bin', 97.09, 300, classCount)\n",
    "# model_fin, acc, loss = opemodel.get_state()\n",
    "# Draw.plot_loss_acc(acc, loss)"
   ]
  },
  {
   "cell_type": "code",
   "execution_count": null,
   "metadata": {},
   "outputs": [],
   "source": [
    "_, acc_list, loss_list = opemodel.get_state()\n",
    "Draw.plot_loss_acc(acc_list, loss_list)\n",
    "Draw.plot_cfm(model, test_loader, classes)"
   ]
  },
  {
   "cell_type": "code",
   "execution_count": null,
   "metadata": {},
   "outputs": [],
   "source": [
    "opemodel.save_state('bin', 170, 5)"
   ]
  },
  {
   "cell_type": "code",
   "execution_count": null,
   "metadata": {},
   "outputs": [],
   "source": [
    "land = Draw.Landscape(1, model_ini, model_fin, train_loader, step=50)\n",
    "land.draw()"
   ]
  },
  {
   "cell_type": "code",
   "execution_count": null,
   "metadata": {},
   "outputs": [],
   "source": [
    "land.mode = 3\n",
    "land.draw()"
   ]
  },
  {
   "cell_type": "code",
   "execution_count": null,
   "metadata": {},
   "outputs": [],
   "source": [
    "%matplotlib widget\n",
    "land.draw()"
   ]
  },
  {
   "cell_type": "code",
   "execution_count": null,
   "metadata": {},
   "outputs": [],
   "source": [
    "# opemodel.modify_lr(0.00001)\n",
    "# opemodel.train_strategy(100)\n",
    "# opemodel.save_state('bin', 600, classCount)\n",
    "# opemodel.modify_lr(0.0001)\n"
   ]
  }
 ],
 "metadata": {
  "interpreter": {
   "hash": "6f285020f8f5854762e6b0ffaf2f278742197f0f0ba066e81cd9123fd82c3c00"
  },
  "kernelspec": {
   "display_name": "Python 3.9.7 ('DeepLearning')",
   "language": "python",
   "name": "python3"
  },
  "language_info": {
   "codemirror_mode": {
    "name": "ipython",
    "version": 3
   },
   "file_extension": ".py",
   "mimetype": "text/x-python",
   "name": "python",
   "nbconvert_exporter": "python",
   "pygments_lexer": "ipython3",
   "version": "3.9.7"
  },
  "orig_nbformat": 4
 },
 "nbformat": 4,
 "nbformat_minor": 2
}
