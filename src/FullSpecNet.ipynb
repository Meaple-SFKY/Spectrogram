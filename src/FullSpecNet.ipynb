{
 "cells": [
  {
   "cell_type": "code",
   "execution_count": null,
   "metadata": {},
   "outputs": [],
   "source": [
    "from utils import Draw\n",
    "from utils.DataLoader import Loader\n",
    "from utils.OpeModel import OpeModel\n",
    "\n",
    "from models.SpecNet import SpecCNN"
   ]
  },
  {
   "cell_type": "code",
   "execution_count": null,
   "metadata": {},
   "outputs": [],
   "source": [
    "classCount = 5\n",
    "loader = Loader(classCount=classCount)\n",
    "classes, train_loader, test_loader = loader.loader()"
   ]
  },
  {
   "cell_type": "code",
   "execution_count": null,
   "metadata": {},
   "outputs": [],
   "source": [
    "model = SpecCNN(classCount=classCount)\n",
    "opemodel = OpeModel(model, 0.001, train_loader, test_loader)"
   ]
  },
  {
   "cell_type": "code",
   "execution_count": null,
   "metadata": {},
   "outputs": [],
   "source": [
    "opemodel.train_strategy(100)\n",
    "# model_ini = model\n",
    "# opemodel.load_state('full', 99.43, 100, classCount)\n",
    "# model_fin, acc, loss = opemodel.get_state()\n",
    "# Draw.plot_loss_acc(acc, loss)\n",
    "# Draw.plot_cfm(model, test_loader, classes)"
   ]
  },
  {
   "cell_type": "code",
   "execution_count": null,
   "metadata": {},
   "outputs": [],
   "source": [
    "opemodel.modify_lr(0.00001)\n",
    "opemodel.train_strategy(20)"
   ]
  },
  {
   "cell_type": "code",
   "execution_count": null,
   "metadata": {},
   "outputs": [],
   "source": [
    "_, acc, loss = opemodel.get_state()\n",
    "Draw.plot_loss_acc(acc, loss)"
   ]
  },
  {
   "cell_type": "code",
   "execution_count": null,
   "metadata": {},
   "outputs": [],
   "source": [
    "Draw.plot_cfm(model, test_loader, classes)"
   ]
  },
  {
   "cell_type": "code",
   "execution_count": null,
   "metadata": {},
   "outputs": [],
   "source": [
    "opemodel.save_state('full', 120, 5)"
   ]
  },
  {
   "cell_type": "code",
   "execution_count": null,
   "metadata": {},
   "outputs": [],
   "source": [
    "land = Draw.Landscape(1, model_ini, model_fin, train_loader)\n",
    "land.draw()\n"
   ]
  },
  {
   "cell_type": "code",
   "execution_count": null,
   "metadata": {},
   "outputs": [],
   "source": [
    "# opemodel.train_strategy(100)\n",
    "# opemodel.save_state('full', 100, 5)"
   ]
  },
  {
   "cell_type": "code",
   "execution_count": null,
   "metadata": {},
   "outputs": [],
   "source": [
    "land.mode = 3\n",
    "land.draw()"
   ]
  }
 ],
 "metadata": {
  "interpreter": {
   "hash": "6f285020f8f5854762e6b0ffaf2f278742197f0f0ba066e81cd9123fd82c3c00"
  },
  "kernelspec": {
   "display_name": "Python 3.9.7 ('DeepLearning')",
   "language": "python",
   "name": "python3"
  },
  "language_info": {
   "codemirror_mode": {
    "name": "ipython",
    "version": 3
   },
   "file_extension": ".py",
   "mimetype": "text/x-python",
   "name": "python",
   "nbconvert_exporter": "python",
   "pygments_lexer": "ipython3",
   "version": "3.9.7"
  },
  "orig_nbformat": 4
 },
 "nbformat": 4,
 "nbformat_minor": 2
}
