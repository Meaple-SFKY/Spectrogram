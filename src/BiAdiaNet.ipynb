{
 "cells": [
  {
   "cell_type": "code",
   "execution_count": null,
   "metadata": {},
   "outputs": [],
   "source": [
    "import torch\n",
    "from utils import Draw\n",
    "from utils.DataLoader import Loader\n",
    "from utils.OpeModel import OpeAdiaModel\n",
    "\n",
    "from models.BiAdiaSpecNet import BiAdiaNet"
   ]
  },
  {
   "cell_type": "code",
   "execution_count": null,
   "metadata": {},
   "outputs": [],
   "source": [
    "classCount = 2\n",
    "loader = Loader(classCount=classCount)\n",
    "classes, train_loader, test_loader = loader.loader()\n",
    "device = torch.device(\"cuda\" if torch.cuda.is_available() else \"cpu\")"
   ]
  },
  {
   "cell_type": "code",
   "execution_count": null,
   "metadata": {},
   "outputs": [],
   "source": [
    "model = BiAdiaNet(classCount)\n",
    "opemodel = OpeAdiaModel(model, device, 0.001, train_loader, test_loader)"
   ]
  },
  {
   "cell_type": "code",
   "execution_count": null,
   "metadata": {},
   "outputs": [],
   "source": [
    "opemodel.train_strategy(0.3, 1, 10)"
   ]
  }
 ],
 "metadata": {
  "interpreter": {
   "hash": "e8f640675e6b3a394c274180f4496f01c8b5ef0148ca2ba8edced6c747686770"
  },
  "kernelspec": {
   "display_name": "Python 3.9.7 64-bit ('DeepLearning')",
   "language": "python",
   "name": "python3"
  },
  "language_info": {
   "codemirror_mode": {
    "name": "ipython",
    "version": 3
   },
   "file_extension": ".py",
   "mimetype": "text/x-python",
   "name": "python",
   "nbconvert_exporter": "python",
   "pygments_lexer": "ipython3",
   "version": "3.9.7"
  },
  "orig_nbformat": 4
 },
 "nbformat": 4,
 "nbformat_minor": 2
}
